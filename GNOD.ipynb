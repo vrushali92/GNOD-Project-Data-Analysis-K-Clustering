{
 "cells": [
  {
   "cell_type": "code",
   "execution_count": 1,
   "id": "379284ed",
   "metadata": {},
   "outputs": [],
   "source": [
    "from bs4 import BeautifulSoup\n",
    "import pandas as pd\n",
    "import requests"
   ]
  },
  {
   "cell_type": "code",
   "execution_count": 2,
   "id": "363a99d0",
   "metadata": {},
   "outputs": [],
   "source": [
    "url = \"http://www.popvortex.com/music/charts/top-100-songs.php\""
   ]
  },
  {
   "cell_type": "code",
   "execution_count": 3,
   "id": "cfeb9566",
   "metadata": {},
   "outputs": [
    {
     "data": {
      "text/plain": [
       "200"
      ]
     },
     "execution_count": 3,
     "metadata": {},
     "output_type": "execute_result"
    }
   ],
   "source": [
    "response = requests.get(url)\n",
    "response.status_code"
   ]
  },
  {
   "cell_type": "code",
   "execution_count": 4,
   "id": "d25bff6f",
   "metadata": {},
   "outputs": [],
   "source": [
    "soup = BeautifulSoup(response.content, \"html.parser\")"
   ]
  },
  {
   "cell_type": "code",
   "execution_count": 5,
   "id": "27705526",
   "metadata": {},
   "outputs": [],
   "source": [
    "# print(soup.prettify())"
   ]
  },
  {
   "cell_type": "code",
   "execution_count": 6,
   "id": "9e3ece57",
   "metadata": {},
   "outputs": [
    {
     "data": {
      "text/plain": [
       "[<div class=\"chart-content col-xs-12 col-sm-8\"><p class=\"title-artist\"><cite class=\"title\">81 Million Votes, My Ass</cite><em class=\"artist\">The Truth Bombers &amp; Kari Lake</em></p><ul><li><strong>Genre</strong>: <a href=\"/music/charts/top-alternative-songs.php\">Alternative</a></li><li><strong>Release Date</strong>: June 2, 2023</li></ul><a class=\"buy-button button\" href=\"https://music.apple.com/us/album/81-million-votes-my-ass/1690675501?i=1690675513&amp;uo=2&amp;partnerId=11&amp;at=10l4UI&amp;itsct=music_box_link&amp;itscg=30200&amp;ls=1&amp;ct=music-songs&amp;app=music\" rel=\"nofollow noopener\">Apple Music / iTunes</a> <a aria-label=\"Buy 81 Million Votes, My Ass - The Truth Bombers &amp;amp; Kari Lake on Amazon\" class=\"amazon-buy button\" href=\"https://www.amazon.com/gp/search?ie=UTF8&amp;keywords=81+Million+Votes%2C+My+Ass+The+Truth+Bombers+%26+Kari+Lake&amp;tag=popv0f-20&amp;search-alias=digital-music\" rel=\"nofollow noopener\" target=\"_blank\">Buy on Amazon</a> <div class=\"social-share\"><a class=\"facebook-share-button\" href=\"javascript: void(0)\" onclick=\"window.open('https://www.facebook.com/dialog/feed?app_id=178831188827052&amp;display=popup&amp;description=81+Million+Votes%2C+My+Ass+by+The+Truth+Bombers+%26+Kari+Lake+is+currently+at+number+1+on+the+iTunes+top+100+songs+chart.&amp;link=https%3A%2F%2Fwww.popvortex.com%2Fmusic%2Fcharts%2Ftop-100-songs.php&amp;redirect_uri=http%3A%2F%2Fwww.popvortex.com%2Fpopup-close.html&amp;picture=https%3A%2F%2Fis4-ssl.mzstatic.com%2Fimage%2Fthumb%2FMusic116%2Fv4%2Ffb%2F40%2F82%2Ffb4082b7-d71e-106d-6980-251984957f47%2F68097.jpg%2F170x170bb.png','sharer','toolbar=0,status=0,width=548,height=325');\"><img alt=\"Share on Facebook\" height=\"20\" loading=\"lazy\" src=\"../../images/facebook-share.png\" width=\"55\"/></a> <a class=\"pinterest-share-button\" data-pin-config=\"none\" data-pin-do=\"buttonPin\" href=\"//pinterest.com/pin/create/button/?url=https%3A%2F%2Fwww.popvortex.com%2Fmusic%2Fcharts%2Ftop-100-songs.php&amp;media=https%3A%2F%2Fis4-ssl.mzstatic.com%2Fimage%2Fthumb%2FMusic116%2Fv4%2Ffb%2F40%2F82%2Ffb4082b7-d71e-106d-6980-251984957f47%2F68097.jpg%2F1200x1200bb.png&amp;description=81 Million Votes, My Ass - The Truth Bombers &amp; Kari Lake\"><img alt=\"Pinterest Button\" height=\"20\" loading=\"lazy\" src=\"//assets.pinterest.com/images/pidgets/pin_it_button.png\" width=\"40\"/></a> <a class=\"tweet-button\" href=\"https://twitter.com/intent/tweet?text=81+Million+Votes%2C+My+Ass+by+The+Truth+Bombers+%26+Kari+Lake+is+%231+on+iTunes+top+100+songs+chart.&amp;hashtags=iTunes&amp;url=https://www.popvortex.com/music/charts/top-100-songs.php\"><span></span>Tweet</a></div></div>]"
      ]
     },
     "metadata": {},
     "output_type": "display_data"
    }
   ],
   "source": [
    "#chart-position-1 > div.chart-content.col-xs-12.col-sm-8\n",
    "\n",
    "result = soup.select(\"#chart-position-1 > div.chart-content.col-xs-12.col-sm-8\")\n",
    "display(result)"
   ]
  },
  {
   "cell_type": "markdown",
   "id": "ff18eb22",
   "metadata": {},
   "source": [
    "# Extracting titles"
   ]
  },
  {
   "cell_type": "code",
   "execution_count": 7,
   "id": "1d1d41d4",
   "metadata": {},
   "outputs": [
    {
     "data": {
      "text/plain": [
       "100"
      ]
     },
     "metadata": {},
     "output_type": "display_data"
    }
   ],
   "source": [
    "# body > div.container > div:nth-child(4) > div.col-xs-12.col-md-8 > div.chart-wrapper\n",
    "    \n",
    "result2 = soup.select(\"body > div.container > div:nth-child(4) > div.col-xs-12.col-md-8 > div.chart-wrapper p cite\")\n",
    "\n",
    "titles = []\n",
    "\n",
    "for item in result2:\n",
    "    titles.append(item.get_text())\n",
    "#     print(item.get_text())\n",
    "    \n",
    "display(len(titles))\n",
    "# display(titles)"
   ]
  },
  {
   "cell_type": "markdown",
   "id": "e7c04b66",
   "metadata": {},
   "source": [
    "# Extracting Artists"
   ]
  },
  {
   "cell_type": "code",
   "execution_count": 8,
   "id": "9ead9593",
   "metadata": {},
   "outputs": [
    {
     "data": {
      "text/plain": [
       "100"
      ]
     },
     "execution_count": 8,
     "metadata": {},
     "output_type": "execute_result"
    }
   ],
   "source": [
    "artists_result = soup.select(\".artist\")\n",
    "artists = []\n",
    "\n",
    "for item in artists_result:\n",
    "    artists.append(item.get_text())\n",
    "    \n",
    "len(artists)    "
   ]
  },
  {
   "cell_type": "code",
   "execution_count": 9,
   "id": "fd207326",
   "metadata": {},
   "outputs": [
    {
     "data": {
      "text/html": [
       "<div>\n",
       "<style scoped>\n",
       "    .dataframe tbody tr th:only-of-type {\n",
       "        vertical-align: middle;\n",
       "    }\n",
       "\n",
       "    .dataframe tbody tr th {\n",
       "        vertical-align: top;\n",
       "    }\n",
       "\n",
       "    .dataframe thead th {\n",
       "        text-align: right;\n",
       "    }\n",
       "</style>\n",
       "<table border=\"1\" class=\"dataframe\">\n",
       "  <thead>\n",
       "    <tr style=\"text-align: right;\">\n",
       "      <th></th>\n",
       "      <th>title</th>\n",
       "      <th>artists</th>\n",
       "    </tr>\n",
       "  </thead>\n",
       "  <tbody>\n",
       "    <tr>\n",
       "      <th>0</th>\n",
       "      <td>81 Million Votes, My Ass</td>\n",
       "      <td>The Truth Bombers &amp; Kari Lake</td>\n",
       "    </tr>\n",
       "    <tr>\n",
       "      <th>1</th>\n",
       "      <td>Fast Car</td>\n",
       "      <td>Luke Combs</td>\n",
       "    </tr>\n",
       "    <tr>\n",
       "      <th>2</th>\n",
       "      <td>Take Two</td>\n",
       "      <td>BTS</td>\n",
       "    </tr>\n",
       "    <tr>\n",
       "      <th>3</th>\n",
       "      <td>Last Night</td>\n",
       "      <td>Morgan Wallen</td>\n",
       "    </tr>\n",
       "    <tr>\n",
       "      <th>4</th>\n",
       "      <td>Need A Favor</td>\n",
       "      <td>Jelly Roll</td>\n",
       "    </tr>\n",
       "    <tr>\n",
       "      <th>...</th>\n",
       "      <td>...</td>\n",
       "      <td>...</td>\n",
       "    </tr>\n",
       "    <tr>\n",
       "      <th>95</th>\n",
       "      <td>Standing Room Only</td>\n",
       "      <td>Tim McGraw</td>\n",
       "    </tr>\n",
       "    <tr>\n",
       "      <th>96</th>\n",
       "      <td>Euphoria</td>\n",
       "      <td>BTS</td>\n",
       "    </tr>\n",
       "    <tr>\n",
       "      <th>97</th>\n",
       "      <td>Hits Different</td>\n",
       "      <td>Taylor Swift</td>\n",
       "    </tr>\n",
       "    <tr>\n",
       "      <th>98</th>\n",
       "      <td>Praise (feat. Brandon Lake, Chris Brown &amp; Chan...</td>\n",
       "      <td>Elevation Worship</td>\n",
       "    </tr>\n",
       "    <tr>\n",
       "      <th>99</th>\n",
       "      <td>Sunflower (Spider-Man: Into the Spider-Verse)</td>\n",
       "      <td>Post Malone &amp; Swae Lee</td>\n",
       "    </tr>\n",
       "  </tbody>\n",
       "</table>\n",
       "<p>100 rows × 2 columns</p>\n",
       "</div>"
      ],
      "text/plain": [
       "                                                title  \\\n",
       "0                            81 Million Votes, My Ass   \n",
       "1                                            Fast Car   \n",
       "2                                            Take Two   \n",
       "3                                          Last Night   \n",
       "4                                        Need A Favor   \n",
       "..                                                ...   \n",
       "95                                 Standing Room Only   \n",
       "96                                           Euphoria   \n",
       "97                                     Hits Different   \n",
       "98  Praise (feat. Brandon Lake, Chris Brown & Chan...   \n",
       "99      Sunflower (Spider-Man: Into the Spider-Verse)   \n",
       "\n",
       "                          artists  \n",
       "0   The Truth Bombers & Kari Lake  \n",
       "1                      Luke Combs  \n",
       "2                             BTS  \n",
       "3                   Morgan Wallen  \n",
       "4                      Jelly Roll  \n",
       "..                            ...  \n",
       "95                     Tim McGraw  \n",
       "96                            BTS  \n",
       "97                   Taylor Swift  \n",
       "98              Elevation Worship  \n",
       "99         Post Malone & Swae Lee  \n",
       "\n",
       "[100 rows x 2 columns]"
      ]
     },
     "execution_count": 9,
     "metadata": {},
     "output_type": "execute_result"
    }
   ],
   "source": [
    "topSongs_df = pd.DataFrame({\"title\" : titles, \"artists\" : artists})\n",
    "topSongs_df"
   ]
  },
  {
   "cell_type": "code",
   "execution_count": null,
   "id": "7e0ca8a2",
   "metadata": {},
   "outputs": [],
   "source": []
  },
  {
   "cell_type": "code",
   "execution_count": null,
   "id": "5f0d6142",
   "metadata": {},
   "outputs": [],
   "source": []
  },
  {
   "cell_type": "code",
   "execution_count": null,
   "id": "29393395",
   "metadata": {},
   "outputs": [],
   "source": []
  },
  {
   "cell_type": "code",
   "execution_count": null,
   "id": "e916095e",
   "metadata": {},
   "outputs": [],
   "source": []
  },
  {
   "cell_type": "markdown",
   "id": "2a631c20",
   "metadata": {},
   "source": [
    "# Lab 2(Part 1)"
   ]
  },
  {
   "cell_type": "code",
   "execution_count": 10,
   "id": "b226b608",
   "metadata": {},
   "outputs": [],
   "source": [
    "url2 = \"https://en.wikipedia.org/wiki/List_of_songs_about_Berlin\""
   ]
  },
  {
   "cell_type": "code",
   "execution_count": 11,
   "id": "812cf093",
   "metadata": {},
   "outputs": [
    {
     "data": {
      "text/plain": [
       "200"
      ]
     },
     "execution_count": 11,
     "metadata": {},
     "output_type": "execute_result"
    }
   ],
   "source": [
    "response2 = requests.get(url2)\n",
    "response2.status_code"
   ]
  },
  {
   "cell_type": "code",
   "execution_count": 12,
   "id": "d2d8d26b",
   "metadata": {},
   "outputs": [],
   "source": [
    "soup2 = BeautifulSoup(response2.content, \"html.parser\")\n",
    "# soup2"
   ]
  },
  {
   "cell_type": "code",
   "execution_count": 13,
   "id": "dc0dbc45",
   "metadata": {},
   "outputs": [],
   "source": [
    "#mw-content-text > div.mw-parser-output > ul:nth-child(8)\n",
    "\n",
    "#mw-content-text > div.mw-parser-output\n",
    "\n",
    "result3 = soup2.select(\"#mw-content-text div.mw-parser-output ul li\")\n",
    "result3\n",
    "\n",
    "title_berlin = []\n",
    "artists_berlin = []\n",
    "\n",
    "for item in result3:\n",
    "    \n",
    "    text = item.get_text()\n",
    "    \n",
    "    arr = text.split(\" – \")\n",
    "    \n",
    "    title_berlin.append(arr[0])\n",
    "    artists_berlin.append(arr[len(arr) - 1])\n",
    "        \n",
    "    \n",
    "# display(title_berlin)\n",
    "# artists_berlin"
   ]
  },
  {
   "cell_type": "code",
   "execution_count": 14,
   "id": "af39c1fe",
   "metadata": {},
   "outputs": [
    {
     "data": {
      "text/plain": [
       "261"
      ]
     },
     "metadata": {},
     "output_type": "display_data"
    },
    {
     "data": {
      "text/plain": [
       "261"
      ]
     },
     "execution_count": 14,
     "metadata": {},
     "output_type": "execute_result"
    }
   ],
   "source": [
    "display(len(title_berlin))\n",
    "len(artists_berlin)"
   ]
  },
  {
   "cell_type": "code",
   "execution_count": 15,
   "id": "36920758",
   "metadata": {},
   "outputs": [
    {
     "data": {
      "text/html": [
       "<div>\n",
       "<style scoped>\n",
       "    .dataframe tbody tr th:only-of-type {\n",
       "        vertical-align: middle;\n",
       "    }\n",
       "\n",
       "    .dataframe tbody tr th {\n",
       "        vertical-align: top;\n",
       "    }\n",
       "\n",
       "    .dataframe thead th {\n",
       "        text-align: right;\n",
       "    }\n",
       "</style>\n",
       "<table border=\"1\" class=\"dataframe\">\n",
       "  <thead>\n",
       "    <tr style=\"text-align: right;\">\n",
       "      <th></th>\n",
       "      <th>title</th>\n",
       "      <th>artists</th>\n",
       "    </tr>\n",
       "  </thead>\n",
       "  <tbody>\n",
       "    <tr>\n",
       "      <th>0</th>\n",
       "      <td>81 Million Votes, My Ass</td>\n",
       "      <td>The Truth Bombers &amp; Kari Lake</td>\n",
       "    </tr>\n",
       "    <tr>\n",
       "      <th>1</th>\n",
       "      <td>Fast Car</td>\n",
       "      <td>Luke Combs</td>\n",
       "    </tr>\n",
       "    <tr>\n",
       "      <th>2</th>\n",
       "      <td>Take Two</td>\n",
       "      <td>BTS</td>\n",
       "    </tr>\n",
       "    <tr>\n",
       "      <th>3</th>\n",
       "      <td>Last Night</td>\n",
       "      <td>Morgan Wallen</td>\n",
       "    </tr>\n",
       "    <tr>\n",
       "      <th>4</th>\n",
       "      <td>Need A Favor</td>\n",
       "      <td>Jelly Roll</td>\n",
       "    </tr>\n",
       "    <tr>\n",
       "      <th>...</th>\n",
       "      <td>...</td>\n",
       "      <td>...</td>\n",
       "    </tr>\n",
       "    <tr>\n",
       "      <th>95</th>\n",
       "      <td>Standing Room Only</td>\n",
       "      <td>Tim McGraw</td>\n",
       "    </tr>\n",
       "    <tr>\n",
       "      <th>96</th>\n",
       "      <td>Euphoria</td>\n",
       "      <td>BTS</td>\n",
       "    </tr>\n",
       "    <tr>\n",
       "      <th>97</th>\n",
       "      <td>Hits Different</td>\n",
       "      <td>Taylor Swift</td>\n",
       "    </tr>\n",
       "    <tr>\n",
       "      <th>98</th>\n",
       "      <td>Praise (feat. Brandon Lake, Chris Brown &amp; Chan...</td>\n",
       "      <td>Elevation Worship</td>\n",
       "    </tr>\n",
       "    <tr>\n",
       "      <th>99</th>\n",
       "      <td>Sunflower (Spider-Man: Into the Spider-Verse)</td>\n",
       "      <td>Post Malone &amp; Swae Lee</td>\n",
       "    </tr>\n",
       "  </tbody>\n",
       "</table>\n",
       "<p>100 rows × 2 columns</p>\n",
       "</div>"
      ],
      "text/plain": [
       "                                                title  \\\n",
       "0                            81 Million Votes, My Ass   \n",
       "1                                            Fast Car   \n",
       "2                                            Take Two   \n",
       "3                                          Last Night   \n",
       "4                                        Need A Favor   \n",
       "..                                                ...   \n",
       "95                                 Standing Room Only   \n",
       "96                                           Euphoria   \n",
       "97                                     Hits Different   \n",
       "98  Praise (feat. Brandon Lake, Chris Brown & Chan...   \n",
       "99      Sunflower (Spider-Man: Into the Spider-Verse)   \n",
       "\n",
       "                          artists  \n",
       "0   The Truth Bombers & Kari Lake  \n",
       "1                      Luke Combs  \n",
       "2                             BTS  \n",
       "3                   Morgan Wallen  \n",
       "4                      Jelly Roll  \n",
       "..                            ...  \n",
       "95                     Tim McGraw  \n",
       "96                            BTS  \n",
       "97                   Taylor Swift  \n",
       "98              Elevation Worship  \n",
       "99         Post Malone & Swae Lee  \n",
       "\n",
       "[100 rows x 2 columns]"
      ]
     },
     "execution_count": 15,
     "metadata": {},
     "output_type": "execute_result"
    }
   ],
   "source": [
    "topSongs_df"
   ]
  },
  {
   "cell_type": "code",
   "execution_count": 16,
   "id": "9e2894f2",
   "metadata": {},
   "outputs": [
    {
     "data": {
      "text/html": [
       "<div>\n",
       "<style scoped>\n",
       "    .dataframe tbody tr th:only-of-type {\n",
       "        vertical-align: middle;\n",
       "    }\n",
       "\n",
       "    .dataframe tbody tr th {\n",
       "        vertical-align: top;\n",
       "    }\n",
       "\n",
       "    .dataframe thead th {\n",
       "        text-align: right;\n",
       "    }\n",
       "</style>\n",
       "<table border=\"1\" class=\"dataframe\">\n",
       "  <thead>\n",
       "    <tr style=\"text-align: right;\">\n",
       "      <th></th>\n",
       "      <th>title</th>\n",
       "      <th>artists</th>\n",
       "    </tr>\n",
       "  </thead>\n",
       "  <tbody>\n",
       "    <tr>\n",
       "      <th>0</th>\n",
       "      <td>Drei Andere</td>\n",
       "      <td>Eine kleine Ewigkeit • Blau ist der Himmel übe...</td>\n",
       "    </tr>\n",
       "    <tr>\n",
       "      <th>1</th>\n",
       "      <td>folk song</td>\n",
       "      <td>Bolle reiste jüngst zu Pfingsten</td>\n",
       "    </tr>\n",
       "    <tr>\n",
       "      <th>2</th>\n",
       "      <td>Paul Lincke</td>\n",
       "      <td>Berliner Luft (1904) • Nach der Liebesinsel la...</td>\n",
       "    </tr>\n",
       "    <tr>\n",
       "      <th>3</th>\n",
       "      <td>Otto Reutter</td>\n",
       "      <td>Berlin is ja so groß (about 1913)</td>\n",
       "    </tr>\n",
       "    <tr>\n",
       "      <th>4</th>\n",
       "      <td>Walter Kollo</td>\n",
       "      <td>Untern Linden, untern Linden • Das war in Schö...</td>\n",
       "    </tr>\n",
       "    <tr>\n",
       "      <th>...</th>\n",
       "      <td>...</td>\n",
       "      <td>...</td>\n",
       "    </tr>\n",
       "    <tr>\n",
       "      <th>256</th>\n",
       "      <td>12 Songs You Need To Listen To When In Berlin</td>\n",
       "      <td>12 Songs You Need To Listen To When In Berlin</td>\n",
       "    </tr>\n",
       "    <tr>\n",
       "      <th>257</th>\n",
       "      <td>10 songs dedicated to Berlin | DW | 30 Septemb...</td>\n",
       "      <td>10 songs dedicated to Berlin | DW | 30 Septemb...</td>\n",
       "    </tr>\n",
       "    <tr>\n",
       "      <th>258</th>\n",
       "      <td>List of Irving Berlin Songs and Music 1909–192...</td>\n",
       "      <td>List of Irving Berlin Songs and Music 1909–192...</td>\n",
       "    </tr>\n",
       "    <tr>\n",
       "      <th>259</th>\n",
       "      <td>Berlin Songs</td>\n",
       "      <td>Nuberlin.com</td>\n",
       "    </tr>\n",
       "    <tr>\n",
       "      <th>260</th>\n",
       "      <td>Berlin Song List</td>\n",
       "      <td>Berlin Song List</td>\n",
       "    </tr>\n",
       "  </tbody>\n",
       "</table>\n",
       "<p>261 rows × 2 columns</p>\n",
       "</div>"
      ],
      "text/plain": [
       "                                                 title  \\\n",
       "0                                          Drei Andere   \n",
       "1                                            folk song   \n",
       "2                                          Paul Lincke   \n",
       "3                                         Otto Reutter   \n",
       "4                                         Walter Kollo   \n",
       "..                                                 ...   \n",
       "256      12 Songs You Need To Listen To When In Berlin   \n",
       "257  10 songs dedicated to Berlin | DW | 30 Septemb...   \n",
       "258  List of Irving Berlin Songs and Music 1909–192...   \n",
       "259                                       Berlin Songs   \n",
       "260                                   Berlin Song List   \n",
       "\n",
       "                                               artists  \n",
       "0    Eine kleine Ewigkeit • Blau ist der Himmel übe...  \n",
       "1                     Bolle reiste jüngst zu Pfingsten  \n",
       "2    Berliner Luft (1904) • Nach der Liebesinsel la...  \n",
       "3                    Berlin is ja so groß (about 1913)  \n",
       "4    Untern Linden, untern Linden • Das war in Schö...  \n",
       "..                                                 ...  \n",
       "256      12 Songs You Need To Listen To When In Berlin  \n",
       "257  10 songs dedicated to Berlin | DW | 30 Septemb...  \n",
       "258  List of Irving Berlin Songs and Music 1909–192...  \n",
       "259                                       Nuberlin.com  \n",
       "260                                   Berlin Song List  \n",
       "\n",
       "[261 rows x 2 columns]"
      ]
     },
     "execution_count": 16,
     "metadata": {},
     "output_type": "execute_result"
    }
   ],
   "source": [
    "topSongsberlin_df = pd.DataFrame({\"title\" : title_berlin, \"artists\" : artists_berlin})\n",
    "topSongsberlin_df"
   ]
  },
  {
   "cell_type": "code",
   "execution_count": 17,
   "id": "0b2b9d72",
   "metadata": {},
   "outputs": [],
   "source": [
    "final_df = pd.concat([topSongs_df, topSongsberlin_df], axis = 0)"
   ]
  },
  {
   "cell_type": "code",
   "execution_count": 18,
   "id": "8f4d58f3",
   "metadata": {},
   "outputs": [
    {
     "data": {
      "text/html": [
       "<div>\n",
       "<style scoped>\n",
       "    .dataframe tbody tr th:only-of-type {\n",
       "        vertical-align: middle;\n",
       "    }\n",
       "\n",
       "    .dataframe tbody tr th {\n",
       "        vertical-align: top;\n",
       "    }\n",
       "\n",
       "    .dataframe thead th {\n",
       "        text-align: right;\n",
       "    }\n",
       "</style>\n",
       "<table border=\"1\" class=\"dataframe\">\n",
       "  <thead>\n",
       "    <tr style=\"text-align: right;\">\n",
       "      <th></th>\n",
       "      <th>title</th>\n",
       "      <th>artists</th>\n",
       "    </tr>\n",
       "  </thead>\n",
       "  <tbody>\n",
       "    <tr>\n",
       "      <th>0</th>\n",
       "      <td>81 Million Votes, My Ass</td>\n",
       "      <td>The Truth Bombers &amp; Kari Lake</td>\n",
       "    </tr>\n",
       "    <tr>\n",
       "      <th>1</th>\n",
       "      <td>Fast Car</td>\n",
       "      <td>Luke Combs</td>\n",
       "    </tr>\n",
       "    <tr>\n",
       "      <th>2</th>\n",
       "      <td>Take Two</td>\n",
       "      <td>BTS</td>\n",
       "    </tr>\n",
       "    <tr>\n",
       "      <th>3</th>\n",
       "      <td>Last Night</td>\n",
       "      <td>Morgan Wallen</td>\n",
       "    </tr>\n",
       "    <tr>\n",
       "      <th>4</th>\n",
       "      <td>Need A Favor</td>\n",
       "      <td>Jelly Roll</td>\n",
       "    </tr>\n",
       "    <tr>\n",
       "      <th>...</th>\n",
       "      <td>...</td>\n",
       "      <td>...</td>\n",
       "    </tr>\n",
       "    <tr>\n",
       "      <th>256</th>\n",
       "      <td>12 Songs You Need To Listen To When In Berlin</td>\n",
       "      <td>12 Songs You Need To Listen To When In Berlin</td>\n",
       "    </tr>\n",
       "    <tr>\n",
       "      <th>257</th>\n",
       "      <td>10 songs dedicated to Berlin | DW | 30 Septemb...</td>\n",
       "      <td>10 songs dedicated to Berlin | DW | 30 Septemb...</td>\n",
       "    </tr>\n",
       "    <tr>\n",
       "      <th>258</th>\n",
       "      <td>List of Irving Berlin Songs and Music 1909–192...</td>\n",
       "      <td>List of Irving Berlin Songs and Music 1909–192...</td>\n",
       "    </tr>\n",
       "    <tr>\n",
       "      <th>259</th>\n",
       "      <td>Berlin Songs</td>\n",
       "      <td>Nuberlin.com</td>\n",
       "    </tr>\n",
       "    <tr>\n",
       "      <th>260</th>\n",
       "      <td>Berlin Song List</td>\n",
       "      <td>Berlin Song List</td>\n",
       "    </tr>\n",
       "  </tbody>\n",
       "</table>\n",
       "<p>361 rows × 2 columns</p>\n",
       "</div>"
      ],
      "text/plain": [
       "                                                 title  \\\n",
       "0                             81 Million Votes, My Ass   \n",
       "1                                             Fast Car   \n",
       "2                                             Take Two   \n",
       "3                                           Last Night   \n",
       "4                                         Need A Favor   \n",
       "..                                                 ...   \n",
       "256      12 Songs You Need To Listen To When In Berlin   \n",
       "257  10 songs dedicated to Berlin | DW | 30 Septemb...   \n",
       "258  List of Irving Berlin Songs and Music 1909–192...   \n",
       "259                                       Berlin Songs   \n",
       "260                                   Berlin Song List   \n",
       "\n",
       "                                               artists  \n",
       "0                        The Truth Bombers & Kari Lake  \n",
       "1                                           Luke Combs  \n",
       "2                                                  BTS  \n",
       "3                                        Morgan Wallen  \n",
       "4                                           Jelly Roll  \n",
       "..                                                 ...  \n",
       "256      12 Songs You Need To Listen To When In Berlin  \n",
       "257  10 songs dedicated to Berlin | DW | 30 Septemb...  \n",
       "258  List of Irving Berlin Songs and Music 1909–192...  \n",
       "259                                       Nuberlin.com  \n",
       "260                                   Berlin Song List  \n",
       "\n",
       "[361 rows x 2 columns]"
      ]
     },
     "execution_count": 18,
     "metadata": {},
     "output_type": "execute_result"
    }
   ],
   "source": [
    "final_df"
   ]
  },
  {
   "cell_type": "code",
   "execution_count": null,
   "id": "1145434c",
   "metadata": {},
   "outputs": [],
   "source": []
  },
  {
   "cell_type": "code",
   "execution_count": null,
   "id": "5db65344",
   "metadata": {},
   "outputs": [],
   "source": []
  },
  {
   "cell_type": "code",
   "execution_count": null,
   "id": "0554d59f",
   "metadata": {},
   "outputs": [],
   "source": []
  },
  {
   "cell_type": "markdown",
   "id": "88108377",
   "metadata": {},
   "source": [
    "# Creating Recommender"
   ]
  },
  {
   "cell_type": "code",
   "execution_count": 79,
   "id": "03e26c55",
   "metadata": {},
   "outputs": [],
   "source": [
    "import random\n",
    "\n",
    "def random_songs(data):\n",
    "    \n",
    "    random_number = random.randint(0, len(data) - 1)\n",
    "    return data.title[random_number]"
   ]
  },
  {
   "cell_type": "code",
   "execution_count": 80,
   "id": "368e6c61",
   "metadata": {},
   "outputs": [],
   "source": [
    "def check_and_recommend(song_name):\n",
    "    \n",
    "    songs = list(map(str.lower, topSongs_df.title))\n",
    "    if song_name.lower() in songs:\n",
    "        return random_songs(topSongs_df)\n",
    "    else:\n",
    "        return \"No recommendation!\""
   ]
  },
  {
   "cell_type": "code",
   "execution_count": 81,
   "id": "5fda9e6e",
   "metadata": {},
   "outputs": [
    {
     "data": {
      "text/html": [
       "<div>\n",
       "<style scoped>\n",
       "    .dataframe tbody tr th:only-of-type {\n",
       "        vertical-align: middle;\n",
       "    }\n",
       "\n",
       "    .dataframe tbody tr th {\n",
       "        vertical-align: top;\n",
       "    }\n",
       "\n",
       "    .dataframe thead th {\n",
       "        text-align: right;\n",
       "    }\n",
       "</style>\n",
       "<table border=\"1\" class=\"dataframe\">\n",
       "  <thead>\n",
       "    <tr style=\"text-align: right;\">\n",
       "      <th></th>\n",
       "      <th>title</th>\n",
       "      <th>artists</th>\n",
       "    </tr>\n",
       "  </thead>\n",
       "  <tbody>\n",
       "    <tr>\n",
       "      <th>0</th>\n",
       "      <td>81 Million Votes, My Ass</td>\n",
       "      <td>The Truth Bombers &amp; Kari Lake</td>\n",
       "    </tr>\n",
       "    <tr>\n",
       "      <th>1</th>\n",
       "      <td>Fast Car</td>\n",
       "      <td>Luke Combs</td>\n",
       "    </tr>\n",
       "    <tr>\n",
       "      <th>2</th>\n",
       "      <td>Last Night</td>\n",
       "      <td>Morgan Wallen</td>\n",
       "    </tr>\n",
       "    <tr>\n",
       "      <th>3</th>\n",
       "      <td>Take Two</td>\n",
       "      <td>BTS</td>\n",
       "    </tr>\n",
       "    <tr>\n",
       "      <th>4</th>\n",
       "      <td>Need A Favor</td>\n",
       "      <td>Jelly Roll</td>\n",
       "    </tr>\n",
       "  </tbody>\n",
       "</table>\n",
       "</div>"
      ],
      "text/plain": [
       "                      title                        artists\n",
       "0  81 Million Votes, My Ass  The Truth Bombers & Kari Lake\n",
       "1                  Fast Car                     Luke Combs\n",
       "2                Last Night                  Morgan Wallen\n",
       "3                  Take Two                            BTS\n",
       "4              Need A Favor                     Jelly Roll"
      ]
     },
     "execution_count": 81,
     "metadata": {},
     "output_type": "execute_result"
    }
   ],
   "source": [
    "topSongs_df.head()"
   ]
  },
  {
   "cell_type": "code",
   "execution_count": 82,
   "id": "ac25022c",
   "metadata": {},
   "outputs": [
    {
     "data": {
      "text/plain": [
       "'HAPPY'"
      ]
     },
     "execution_count": 82,
     "metadata": {},
     "output_type": "execute_result"
    }
   ],
   "source": [
    "check_and_recommend(\"take two\")"
   ]
  },
  {
   "cell_type": "code",
   "execution_count": 83,
   "id": "19a8fdf3",
   "metadata": {},
   "outputs": [
    {
     "data": {
      "text/plain": [
       "\"I Ain't Worried\""
      ]
     },
     "execution_count": 83,
     "metadata": {},
     "output_type": "execute_result"
    }
   ],
   "source": [
    "check_and_recommend(\"need a favor\")"
   ]
  },
  {
   "cell_type": "code",
   "execution_count": 84,
   "id": "44dc5d22",
   "metadata": {},
   "outputs": [
    {
     "data": {
      "text/plain": [
       "'No recommendation!'"
      ]
     },
     "execution_count": 84,
     "metadata": {},
     "output_type": "execute_result"
    }
   ],
   "source": [
    "check_and_recommend(\"something\")"
   ]
  },
  {
   "cell_type": "code",
   "execution_count": 88,
   "id": "d5c8cbd0",
   "metadata": {},
   "outputs": [
    {
     "name": "stdout",
     "output_type": "stream",
     "text": [
      "Type a song title: need favor\n"
     ]
    },
    {
     "ename": "KeyError",
     "evalue": "'artist'",
     "output_type": "error",
     "traceback": [
      "\u001b[0;31m---------------------------------------------------------------------------\u001b[0m",
      "\u001b[0;31mKeyError\u001b[0m                                  Traceback (most recent call last)",
      "File \u001b[0;32m~/anaconda3/lib/python3.10/site-packages/pandas/core/indexes/base.py:3802\u001b[0m, in \u001b[0;36mIndex.get_loc\u001b[0;34m(self, key, method, tolerance)\u001b[0m\n\u001b[1;32m   3801\u001b[0m \u001b[38;5;28;01mtry\u001b[39;00m:\n\u001b[0;32m-> 3802\u001b[0m     \u001b[38;5;28;01mreturn\u001b[39;00m \u001b[38;5;28;43mself\u001b[39;49m\u001b[38;5;241;43m.\u001b[39;49m\u001b[43m_engine\u001b[49m\u001b[38;5;241;43m.\u001b[39;49m\u001b[43mget_loc\u001b[49m\u001b[43m(\u001b[49m\u001b[43mcasted_key\u001b[49m\u001b[43m)\u001b[49m\n\u001b[1;32m   3803\u001b[0m \u001b[38;5;28;01mexcept\u001b[39;00m \u001b[38;5;167;01mKeyError\u001b[39;00m \u001b[38;5;28;01mas\u001b[39;00m err:\n",
      "File \u001b[0;32m~/anaconda3/lib/python3.10/site-packages/pandas/_libs/index.pyx:138\u001b[0m, in \u001b[0;36mpandas._libs.index.IndexEngine.get_loc\u001b[0;34m()\u001b[0m\n",
      "File \u001b[0;32m~/anaconda3/lib/python3.10/site-packages/pandas/_libs/index.pyx:165\u001b[0m, in \u001b[0;36mpandas._libs.index.IndexEngine.get_loc\u001b[0;34m()\u001b[0m\n",
      "File \u001b[0;32mpandas/_libs/hashtable_class_helper.pxi:5745\u001b[0m, in \u001b[0;36mpandas._libs.hashtable.PyObjectHashTable.get_item\u001b[0;34m()\u001b[0m\n",
      "File \u001b[0;32mpandas/_libs/hashtable_class_helper.pxi:5753\u001b[0m, in \u001b[0;36mpandas._libs.hashtable.PyObjectHashTable.get_item\u001b[0;34m()\u001b[0m\n",
      "\u001b[0;31mKeyError\u001b[0m: 'artist'",
      "\nThe above exception was the direct cause of the following exception:\n",
      "\u001b[0;31mKeyError\u001b[0m                                  Traceback (most recent call last)",
      "Cell \u001b[0;32mIn[88], line 18\u001b[0m\n\u001b[1;32m     15\u001b[0m \u001b[38;5;66;03m# User input for the song\u001b[39;00m\n\u001b[1;32m     16\u001b[0m user_input \u001b[38;5;241m=\u001b[39m \u001b[38;5;28minput\u001b[39m(\u001b[38;5;124m\"\u001b[39m\u001b[38;5;124mType a song title: \u001b[39m\u001b[38;5;124m\"\u001b[39m)\n\u001b[0;32m---> 18\u001b[0m recommendation \u001b[38;5;241m=\u001b[39m \u001b[43mrecommend\u001b[49m\u001b[43m(\u001b[49m\u001b[43muser_input\u001b[49m\u001b[43m,\u001b[49m\u001b[43m \u001b[49m\u001b[43mtopSongs_df\u001b[49m\u001b[43m)\u001b[49m\n\u001b[1;32m     19\u001b[0m \u001b[38;5;28mprint\u001b[39m(recommendation)\n",
      "Cell \u001b[0;32mIn[88], line 10\u001b[0m, in \u001b[0;36mrecommend\u001b[0;34m(song_name, data)\u001b[0m\n\u001b[1;32m      8\u001b[0m     random_song \u001b[38;5;241m=\u001b[39m data[data\u001b[38;5;241m.\u001b[39mtitle \u001b[38;5;241m!=\u001b[39m song_name]\u001b[38;5;241m.\u001b[39msample(\u001b[38;5;241m1\u001b[39m)\n\u001b[1;32m      9\u001b[0m     recommended_song \u001b[38;5;241m=\u001b[39m random_song\u001b[38;5;241m.\u001b[39miloc[\u001b[38;5;241m0\u001b[39m][\u001b[38;5;124m'\u001b[39m\u001b[38;5;124mtitle\u001b[39m\u001b[38;5;124m'\u001b[39m]\n\u001b[0;32m---> 10\u001b[0m     recommended_artist \u001b[38;5;241m=\u001b[39m \u001b[43mrandom_song\u001b[49m\u001b[38;5;241;43m.\u001b[39;49m\u001b[43miloc\u001b[49m\u001b[43m[\u001b[49m\u001b[38;5;241;43m0\u001b[39;49m\u001b[43m]\u001b[49m\u001b[43m[\u001b[49m\u001b[38;5;124;43m'\u001b[39;49m\u001b[38;5;124;43martist\u001b[39;49m\u001b[38;5;124;43m'\u001b[39;49m\u001b[43m]\u001b[49m\n\u001b[1;32m     11\u001b[0m     \u001b[38;5;28;01mreturn\u001b[39;00m \u001b[38;5;124m\"\u001b[39m\u001b[38;5;124mGreat! How about checking out \u001b[39m\u001b[38;5;124m'\u001b[39m\u001b[38;5;132;01m{recommended_song}\u001b[39;00m\u001b[38;5;124m'\u001b[39m\u001b[38;5;124m by \u001b[39m\u001b[38;5;132;01m{recommended_artist}\u001b[39;00m\u001b[38;5;124m?\u001b[39m\u001b[38;5;124m\"\u001b[39m\n\u001b[1;32m     12\u001b[0m \u001b[38;5;28;01melse\u001b[39;00m:\n",
      "File \u001b[0;32m~/anaconda3/lib/python3.10/site-packages/pandas/core/series.py:981\u001b[0m, in \u001b[0;36mSeries.__getitem__\u001b[0;34m(self, key)\u001b[0m\n\u001b[1;32m    978\u001b[0m     \u001b[38;5;28;01mreturn\u001b[39;00m \u001b[38;5;28mself\u001b[39m\u001b[38;5;241m.\u001b[39m_values[key]\n\u001b[1;32m    980\u001b[0m \u001b[38;5;28;01melif\u001b[39;00m key_is_scalar:\n\u001b[0;32m--> 981\u001b[0m     \u001b[38;5;28;01mreturn\u001b[39;00m \u001b[38;5;28;43mself\u001b[39;49m\u001b[38;5;241;43m.\u001b[39;49m\u001b[43m_get_value\u001b[49m\u001b[43m(\u001b[49m\u001b[43mkey\u001b[49m\u001b[43m)\u001b[49m\n\u001b[1;32m    983\u001b[0m \u001b[38;5;28;01mif\u001b[39;00m is_hashable(key):\n\u001b[1;32m    984\u001b[0m     \u001b[38;5;66;03m# Otherwise index.get_value will raise InvalidIndexError\u001b[39;00m\n\u001b[1;32m    985\u001b[0m     \u001b[38;5;28;01mtry\u001b[39;00m:\n\u001b[1;32m    986\u001b[0m         \u001b[38;5;66;03m# For labels that don't resolve as scalars like tuples and frozensets\u001b[39;00m\n",
      "File \u001b[0;32m~/anaconda3/lib/python3.10/site-packages/pandas/core/series.py:1089\u001b[0m, in \u001b[0;36mSeries._get_value\u001b[0;34m(self, label, takeable)\u001b[0m\n\u001b[1;32m   1086\u001b[0m     \u001b[38;5;28;01mreturn\u001b[39;00m \u001b[38;5;28mself\u001b[39m\u001b[38;5;241m.\u001b[39m_values[label]\n\u001b[1;32m   1088\u001b[0m \u001b[38;5;66;03m# Similar to Index.get_value, but we do not fall back to positional\u001b[39;00m\n\u001b[0;32m-> 1089\u001b[0m loc \u001b[38;5;241m=\u001b[39m \u001b[38;5;28;43mself\u001b[39;49m\u001b[38;5;241;43m.\u001b[39;49m\u001b[43mindex\u001b[49m\u001b[38;5;241;43m.\u001b[39;49m\u001b[43mget_loc\u001b[49m\u001b[43m(\u001b[49m\u001b[43mlabel\u001b[49m\u001b[43m)\u001b[49m\n\u001b[1;32m   1090\u001b[0m \u001b[38;5;28;01mreturn\u001b[39;00m \u001b[38;5;28mself\u001b[39m\u001b[38;5;241m.\u001b[39mindex\u001b[38;5;241m.\u001b[39m_get_values_for_loc(\u001b[38;5;28mself\u001b[39m, loc, label)\n",
      "File \u001b[0;32m~/anaconda3/lib/python3.10/site-packages/pandas/core/indexes/base.py:3804\u001b[0m, in \u001b[0;36mIndex.get_loc\u001b[0;34m(self, key, method, tolerance)\u001b[0m\n\u001b[1;32m   3802\u001b[0m     \u001b[38;5;28;01mreturn\u001b[39;00m \u001b[38;5;28mself\u001b[39m\u001b[38;5;241m.\u001b[39m_engine\u001b[38;5;241m.\u001b[39mget_loc(casted_key)\n\u001b[1;32m   3803\u001b[0m \u001b[38;5;28;01mexcept\u001b[39;00m \u001b[38;5;167;01mKeyError\u001b[39;00m \u001b[38;5;28;01mas\u001b[39;00m err:\n\u001b[0;32m-> 3804\u001b[0m     \u001b[38;5;28;01mraise\u001b[39;00m \u001b[38;5;167;01mKeyError\u001b[39;00m(key) \u001b[38;5;28;01mfrom\u001b[39;00m \u001b[38;5;21;01merr\u001b[39;00m\n\u001b[1;32m   3805\u001b[0m \u001b[38;5;28;01mexcept\u001b[39;00m \u001b[38;5;167;01mTypeError\u001b[39;00m:\n\u001b[1;32m   3806\u001b[0m     \u001b[38;5;66;03m# If we have a listlike key, _check_indexing_error will raise\u001b[39;00m\n\u001b[1;32m   3807\u001b[0m     \u001b[38;5;66;03m#  InvalidIndexError. Otherwise we fall through and re-raise\u001b[39;00m\n\u001b[1;32m   3808\u001b[0m     \u001b[38;5;66;03m#  the TypeError.\u001b[39;00m\n\u001b[1;32m   3809\u001b[0m     \u001b[38;5;28mself\u001b[39m\u001b[38;5;241m.\u001b[39m_check_indexing_error(key)\n",
      "\u001b[0;31mKeyError\u001b[0m: 'artist'"
     ]
    }
   ],
   "source": [
    "import difflib\n",
    "\n",
    "def recommend(song_name, data):\n",
    "    matching_songs = data[data.title.apply(lambda x: difflib.SequenceMatcher(None, song_name.lower(), x.lower()).ratio() > 0.5)]\n",
    "    \n",
    "    if not matching_songs.empty:\n",
    "        # Randomly select a different song from the matching songs\n",
    "        random_song = data[data.title != song_name].sample(1)\n",
    "        recommended_song = random_song.iloc[0]['title']\n",
    "        recommended_artist = random_song.iloc[0]['artist']\n",
    "        return \"Great! How about checking out '{recommended_song}' by {recommended_artist}?\"\n",
    "    else:\n",
    "        return \"Sorry, I don't have a recommendation at this time.\"\n",
    "\n",
    "# User input for the song\n",
    "user_input = input(\"Type a song title: \")\n",
    "\n",
    "recommendation = recommend(user_input, topSongs_df)\n",
    "print(recommendation)"
   ]
  },
  {
   "cell_type": "code",
   "execution_count": null,
   "id": "5afdd723",
   "metadata": {},
   "outputs": [],
   "source": []
  }
 ],
 "metadata": {
  "kernelspec": {
   "display_name": "Python 3 (ipykernel)",
   "language": "python",
   "name": "python3"
  },
  "language_info": {
   "codemirror_mode": {
    "name": "ipython",
    "version": 3
   },
   "file_extension": ".py",
   "mimetype": "text/x-python",
   "name": "python",
   "nbconvert_exporter": "python",
   "pygments_lexer": "ipython3",
   "version": "3.10.9"
  }
 },
 "nbformat": 4,
 "nbformat_minor": 5
}
