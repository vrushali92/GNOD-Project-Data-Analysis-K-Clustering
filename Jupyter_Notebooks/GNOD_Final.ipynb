{
 "cells": [
  {
   "cell_type": "code",
   "execution_count": 1,
   "id": "208375ce",
   "metadata": {},
   "outputs": [],
   "source": [
    "import pandas as pd\n",
    "import pickle\n",
    "\n",
    "import spotipy\n",
    "from spotipy.oauth2 import SpotifyClientCredentials\n",
    "\n",
    "from pandas import json_normalize\n",
    "\n",
    "from sklearn.preprocessing import StandardScaler\n",
    "\n",
    "from random import randint"
   ]
  },
  {
   "cell_type": "code",
   "execution_count": 2,
   "id": "603e964c",
   "metadata": {},
   "outputs": [],
   "source": [
    "with open(\"model.pkl\", \"rb\") as f:\n",
    "    kmeans = pickle.load(f)"
   ]
  },
  {
   "cell_type": "markdown",
   "id": "9b68459f",
   "metadata": {},
   "source": [
    "# Unpickling model"
   ]
  },
  {
   "cell_type": "code",
   "execution_count": 3,
   "id": "64628ff9",
   "metadata": {},
   "outputs": [
    {
     "data": {
      "text/html": [
       "<style>#sk-container-id-1 {color: black;background-color: white;}#sk-container-id-1 pre{padding: 0;}#sk-container-id-1 div.sk-toggleable {background-color: white;}#sk-container-id-1 label.sk-toggleable__label {cursor: pointer;display: block;width: 100%;margin-bottom: 0;padding: 0.3em;box-sizing: border-box;text-align: center;}#sk-container-id-1 label.sk-toggleable__label-arrow:before {content: \"▸\";float: left;margin-right: 0.25em;color: #696969;}#sk-container-id-1 label.sk-toggleable__label-arrow:hover:before {color: black;}#sk-container-id-1 div.sk-estimator:hover label.sk-toggleable__label-arrow:before {color: black;}#sk-container-id-1 div.sk-toggleable__content {max-height: 0;max-width: 0;overflow: hidden;text-align: left;background-color: #f0f8ff;}#sk-container-id-1 div.sk-toggleable__content pre {margin: 0.2em;color: black;border-radius: 0.25em;background-color: #f0f8ff;}#sk-container-id-1 input.sk-toggleable__control:checked~div.sk-toggleable__content {max-height: 200px;max-width: 100%;overflow: auto;}#sk-container-id-1 input.sk-toggleable__control:checked~label.sk-toggleable__label-arrow:before {content: \"▾\";}#sk-container-id-1 div.sk-estimator input.sk-toggleable__control:checked~label.sk-toggleable__label {background-color: #d4ebff;}#sk-container-id-1 div.sk-label input.sk-toggleable__control:checked~label.sk-toggleable__label {background-color: #d4ebff;}#sk-container-id-1 input.sk-hidden--visually {border: 0;clip: rect(1px 1px 1px 1px);clip: rect(1px, 1px, 1px, 1px);height: 1px;margin: -1px;overflow: hidden;padding: 0;position: absolute;width: 1px;}#sk-container-id-1 div.sk-estimator {font-family: monospace;background-color: #f0f8ff;border: 1px dotted black;border-radius: 0.25em;box-sizing: border-box;margin-bottom: 0.5em;}#sk-container-id-1 div.sk-estimator:hover {background-color: #d4ebff;}#sk-container-id-1 div.sk-parallel-item::after {content: \"\";width: 100%;border-bottom: 1px solid gray;flex-grow: 1;}#sk-container-id-1 div.sk-label:hover label.sk-toggleable__label {background-color: #d4ebff;}#sk-container-id-1 div.sk-serial::before {content: \"\";position: absolute;border-left: 1px solid gray;box-sizing: border-box;top: 0;bottom: 0;left: 50%;z-index: 0;}#sk-container-id-1 div.sk-serial {display: flex;flex-direction: column;align-items: center;background-color: white;padding-right: 0.2em;padding-left: 0.2em;position: relative;}#sk-container-id-1 div.sk-item {position: relative;z-index: 1;}#sk-container-id-1 div.sk-parallel {display: flex;align-items: stretch;justify-content: center;background-color: white;position: relative;}#sk-container-id-1 div.sk-item::before, #sk-container-id-1 div.sk-parallel-item::before {content: \"\";position: absolute;border-left: 1px solid gray;box-sizing: border-box;top: 0;bottom: 0;left: 50%;z-index: -1;}#sk-container-id-1 div.sk-parallel-item {display: flex;flex-direction: column;z-index: 1;position: relative;background-color: white;}#sk-container-id-1 div.sk-parallel-item:first-child::after {align-self: flex-end;width: 50%;}#sk-container-id-1 div.sk-parallel-item:last-child::after {align-self: flex-start;width: 50%;}#sk-container-id-1 div.sk-parallel-item:only-child::after {width: 0;}#sk-container-id-1 div.sk-dashed-wrapped {border: 1px dashed gray;margin: 0 0.4em 0.5em 0.4em;box-sizing: border-box;padding-bottom: 0.4em;background-color: white;}#sk-container-id-1 div.sk-label label {font-family: monospace;font-weight: bold;display: inline-block;line-height: 1.2em;}#sk-container-id-1 div.sk-label-container {text-align: center;}#sk-container-id-1 div.sk-container {/* jupyter's `normalize.less` sets `[hidden] { display: none; }` but bootstrap.min.css set `[hidden] { display: none !important; }` so we also need the `!important` here to be able to override the default hidden behavior on the sphinx rendered scikit-learn.org. See: https://github.com/scikit-learn/scikit-learn/issues/21755 */display: inline-block !important;position: relative;}#sk-container-id-1 div.sk-text-repr-fallback {display: none;}</style><div id=\"sk-container-id-1\" class=\"sk-top-container\"><div class=\"sk-text-repr-fallback\"><pre>KMeans(n_clusters=5)</pre><b>In a Jupyter environment, please rerun this cell to show the HTML representation or trust the notebook. <br />On GitHub, the HTML representation is unable to render, please try loading this page with nbviewer.org.</b></div><div class=\"sk-container\" hidden><div class=\"sk-item\"><div class=\"sk-estimator sk-toggleable\"><input class=\"sk-toggleable__control sk-hidden--visually\" id=\"sk-estimator-id-1\" type=\"checkbox\" checked><label for=\"sk-estimator-id-1\" class=\"sk-toggleable__label sk-toggleable__label-arrow\">KMeans</label><div class=\"sk-toggleable__content\"><pre>KMeans(n_clusters=5)</pre></div></div></div></div></div>"
      ],
      "text/plain": [
       "KMeans(n_clusters=5)"
      ]
     },
     "execution_count": 3,
     "metadata": {},
     "output_type": "execute_result"
    }
   ],
   "source": [
    "kmeans"
   ]
  },
  {
   "cell_type": "code",
   "execution_count": 4,
   "id": "8a5de7bd",
   "metadata": {},
   "outputs": [
    {
     "data": {
      "text/html": [
       "<div>\n",
       "<style scoped>\n",
       "    .dataframe tbody tr th:only-of-type {\n",
       "        vertical-align: middle;\n",
       "    }\n",
       "\n",
       "    .dataframe tbody tr th {\n",
       "        vertical-align: top;\n",
       "    }\n",
       "\n",
       "    .dataframe thead th {\n",
       "        text-align: right;\n",
       "    }\n",
       "</style>\n",
       "<table border=\"1\" class=\"dataframe\">\n",
       "  <thead>\n",
       "    <tr style=\"text-align: right;\">\n",
       "      <th></th>\n",
       "      <th>title</th>\n",
       "      <th>artists</th>\n",
       "    </tr>\n",
       "  </thead>\n",
       "  <tbody>\n",
       "    <tr>\n",
       "      <th>0</th>\n",
       "      <td>Fast Car</td>\n",
       "      <td>Luke Combs</td>\n",
       "    </tr>\n",
       "    <tr>\n",
       "      <th>1</th>\n",
       "      <td>Last Night</td>\n",
       "      <td>Morgan Wallen</td>\n",
       "    </tr>\n",
       "    <tr>\n",
       "      <th>2</th>\n",
       "      <td>Need A Favor</td>\n",
       "      <td>Jelly Roll</td>\n",
       "    </tr>\n",
       "    <tr>\n",
       "      <th>3</th>\n",
       "      <td>Take Two</td>\n",
       "      <td>BTS</td>\n",
       "    </tr>\n",
       "    <tr>\n",
       "      <th>4</th>\n",
       "      <td>Save Me (with Lainey Wilson)</td>\n",
       "      <td>Jelly Roll</td>\n",
       "    </tr>\n",
       "    <tr>\n",
       "      <th>...</th>\n",
       "      <td>...</td>\n",
       "      <td>...</td>\n",
       "    </tr>\n",
       "    <tr>\n",
       "      <th>95</th>\n",
       "      <td>Memory Lane</td>\n",
       "      <td>Old Dominion</td>\n",
       "    </tr>\n",
       "    <tr>\n",
       "      <th>96</th>\n",
       "      <td>A Little Bit Happy</td>\n",
       "      <td>TALK</td>\n",
       "    </tr>\n",
       "    <tr>\n",
       "      <th>97</th>\n",
       "      <td>Perfect</td>\n",
       "      <td>Ed Sheeran</td>\n",
       "    </tr>\n",
       "    <tr>\n",
       "      <th>98</th>\n",
       "      <td>Whiskey Glasses</td>\n",
       "      <td>Morgan Wallen</td>\n",
       "    </tr>\n",
       "    <tr>\n",
       "      <th>99</th>\n",
       "      <td>Beat You There</td>\n",
       "      <td>Will Dempsey</td>\n",
       "    </tr>\n",
       "  </tbody>\n",
       "</table>\n",
       "<p>100 rows × 2 columns</p>\n",
       "</div>"
      ],
      "text/plain": [
       "                           title        artists\n",
       "0                       Fast Car     Luke Combs\n",
       "1                     Last Night  Morgan Wallen\n",
       "2                   Need A Favor     Jelly Roll\n",
       "3                       Take Two            BTS\n",
       "4   Save Me (with Lainey Wilson)     Jelly Roll\n",
       "..                           ...            ...\n",
       "95                   Memory Lane   Old Dominion\n",
       "96            A Little Bit Happy           TALK\n",
       "97                       Perfect     Ed Sheeran\n",
       "98               Whiskey Glasses  Morgan Wallen\n",
       "99                Beat You There   Will Dempsey\n",
       "\n",
       "[100 rows x 2 columns]"
      ]
     },
     "execution_count": 4,
     "metadata": {},
     "output_type": "execute_result"
    }
   ],
   "source": [
    "top100_songs_df = pd.read_csv(\"top100_songs.csv\")\n",
    "top100_songs_df"
   ]
  },
  {
   "cell_type": "code",
   "execution_count": 5,
   "id": "23fcd11d",
   "metadata": {},
   "outputs": [
    {
     "data": {
      "text/html": [
       "<div>\n",
       "<style scoped>\n",
       "    .dataframe tbody tr th:only-of-type {\n",
       "        vertical-align: middle;\n",
       "    }\n",
       "\n",
       "    .dataframe tbody tr th {\n",
       "        vertical-align: top;\n",
       "    }\n",
       "\n",
       "    .dataframe thead th {\n",
       "        text-align: right;\n",
       "    }\n",
       "</style>\n",
       "<table border=\"1\" class=\"dataframe\">\n",
       "  <thead>\n",
       "    <tr style=\"text-align: right;\">\n",
       "      <th></th>\n",
       "      <th>Title</th>\n",
       "      <th>Artist</th>\n",
       "      <th>Cluster</th>\n",
       "    </tr>\n",
       "  </thead>\n",
       "  <tbody>\n",
       "    <tr>\n",
       "      <th>0</th>\n",
       "      <td>You're The One - Un mal pour un bien</td>\n",
       "      <td>Petula Clark</td>\n",
       "      <td>1</td>\n",
       "    </tr>\n",
       "    <tr>\n",
       "      <th>1</th>\n",
       "      <td>Doctor My Eyes</td>\n",
       "      <td>Jackson Browne</td>\n",
       "      <td>4</td>\n",
       "    </tr>\n",
       "    <tr>\n",
       "      <th>2</th>\n",
       "      <td>Falling in Love at a Coffee Shop</td>\n",
       "      <td>Landon Pigg</td>\n",
       "      <td>3</td>\n",
       "    </tr>\n",
       "    <tr>\n",
       "      <th>3</th>\n",
       "      <td>Peaceful Easy Feeling - 2013 Remaster</td>\n",
       "      <td>Eagles</td>\n",
       "      <td>4</td>\n",
       "    </tr>\n",
       "    <tr>\n",
       "      <th>4</th>\n",
       "      <td>Summertime Blues</td>\n",
       "      <td>Eddie Cochran</td>\n",
       "      <td>0</td>\n",
       "    </tr>\n",
       "    <tr>\n",
       "      <th>...</th>\n",
       "      <td>...</td>\n",
       "      <td>...</td>\n",
       "      <td>...</td>\n",
       "    </tr>\n",
       "    <tr>\n",
       "      <th>10117</th>\n",
       "      <td>Elements (Deluxe)</td>\n",
       "      <td>Ludovico Einaudi</td>\n",
       "      <td>2</td>\n",
       "    </tr>\n",
       "    <tr>\n",
       "      <th>10118</th>\n",
       "      <td>Moon Safari</td>\n",
       "      <td>Air</td>\n",
       "      <td>4</td>\n",
       "    </tr>\n",
       "    <tr>\n",
       "      <th>10119</th>\n",
       "      <td>Islands - Essential Einaudi</td>\n",
       "      <td>Ludovico Einaudi</td>\n",
       "      <td>2</td>\n",
       "    </tr>\n",
       "    <tr>\n",
       "      <th>10120</th>\n",
       "      <td>Liquid Mind II: Slow World</td>\n",
       "      <td>Liquid Mind</td>\n",
       "      <td>2</td>\n",
       "    </tr>\n",
       "    <tr>\n",
       "      <th>10121</th>\n",
       "      <td>Liquid Mind XI: Deep Sleep</td>\n",
       "      <td>Liquid Mind</td>\n",
       "      <td>2</td>\n",
       "    </tr>\n",
       "  </tbody>\n",
       "</table>\n",
       "<p>10122 rows × 3 columns</p>\n",
       "</div>"
      ],
      "text/plain": [
       "                                       Title            Artist  Cluster\n",
       "0       You're The One - Un mal pour un bien      Petula Clark        1\n",
       "1                             Doctor My Eyes    Jackson Browne        4\n",
       "2           Falling in Love at a Coffee Shop       Landon Pigg        3\n",
       "3      Peaceful Easy Feeling - 2013 Remaster            Eagles        4\n",
       "4                           Summertime Blues     Eddie Cochran        0\n",
       "...                                      ...               ...      ...\n",
       "10117                      Elements (Deluxe)  Ludovico Einaudi        2\n",
       "10118                            Moon Safari               Air        4\n",
       "10119            Islands - Essential Einaudi  Ludovico Einaudi        2\n",
       "10120             Liquid Mind II: Slow World       Liquid Mind        2\n",
       "10121             Liquid Mind XI: Deep Sleep       Liquid Mind        2\n",
       "\n",
       "[10122 rows x 3 columns]"
      ]
     },
     "execution_count": 5,
     "metadata": {},
     "output_type": "execute_result"
    }
   ],
   "source": [
    "clustered_songs_df = pd.read_csv(\"Clustered_songs.csv\")\n",
    "clustered_songs_df"
   ]
  },
  {
   "cell_type": "markdown",
   "id": "b768bd9a",
   "metadata": {},
   "source": [
    "# Spotify Authentication"
   ]
  },
  {
   "cell_type": "code",
   "execution_count": 6,
   "id": "5a633f51",
   "metadata": {},
   "outputs": [],
   "source": [
    "secrets_file = open(\"secrets.txt\",\"r\")\n",
    "string = secrets_file.read()\n",
    "secret_dict = {}\n",
    "\n",
    "for line in string.split(\"\\n\"):\n",
    "    if len(line) > 1:\n",
    "        \n",
    "        secret_dict[line.split(':')[0]]=line.split(':')[1].strip()\n",
    "    "
   ]
  },
  {
   "cell_type": "code",
   "execution_count": 7,
   "id": "8203e6dd",
   "metadata": {},
   "outputs": [],
   "source": [
    "auth_manager = SpotifyClientCredentials(client_id = secret_dict['clientid'], \n",
    "                                        client_secret = secret_dict['clientsecret'])\n",
    "\n",
    "sp = spotipy.Spotify(auth_manager = auth_manager)"
   ]
  },
  {
   "cell_type": "code",
   "execution_count": null,
   "id": "cfe1a8d1",
   "metadata": {},
   "outputs": [],
   "source": []
  },
  {
   "cell_type": "markdown",
   "id": "52df83e4",
   "metadata": {},
   "source": [
    "# Functions for recommendations and predictions"
   ]
  },
  {
   "cell_type": "code",
   "execution_count": 8,
   "id": "2bf42f55",
   "metadata": {},
   "outputs": [],
   "source": [
    "# Pick random songs from the predicted cluster.\n",
    "def pick_song(cluster):\n",
    "    \n",
    "    df = clustered_songs_df[clustered_songs_df.Cluster == cluster].reset_index()\n",
    "    rand_int = randint(0, len(df))\n",
    "    return (df.Title[rand_int], df.Artist[rand_int])\n",
    "    "
   ]
  },
  {
   "cell_type": "code",
   "execution_count": 24,
   "id": "a87d900a",
   "metadata": {},
   "outputs": [],
   "source": [
    "# Predict cluster of input song\n",
    "def predict_cluster(audio_features):\n",
    "    \n",
    "    X = pd.json_normalize(audio_features[0])\n",
    "    X = X.drop([\"type\", \"id\", \"uri\", \"track_href\", \"analysis_url\", \"time_signature\"], axis = 1)\n",
    "    X_scaled = StandardScaler().fit_transform(X)\n",
    "    \n",
    "    cluster = kmeans.predict(X_scaled)[0]\n",
    "    return pick_song(cluster)\n"
   ]
  },
  {
   "cell_type": "code",
   "execution_count": 25,
   "id": "7d641d6a",
   "metadata": {},
   "outputs": [],
   "source": [
    "# Get audio features of the input song\n",
    "def get_audio_features(input_song):\n",
    "    \n",
    "    results = sp.search(q = input_song, type = \"track\")\n",
    "    \n",
    "    if len(results[\"tracks\"][\"items\"]) > 1: \n",
    "        \n",
    "        uri = results[\"tracks\"][\"items\"][0][\"uri\"]\n",
    "        audio_features = sp.audio_features(uri)\n",
    "        return predict_cluster(audio_features)\n",
    "    else:\n",
    "        return \"No recommendation. Please retry later\"    "
   ]
  },
  {
   "cell_type": "code",
   "execution_count": 26,
   "id": "7ae163e0",
   "metadata": {},
   "outputs": [],
   "source": [
    "import random\n",
    "\n",
    "# Recommend from hot songs\n",
    "def random_songs(data):\n",
    "    \n",
    "    random_number = random.randint(0, len(data) - 1)\n",
    "    return (data.title[random_number], data.artists[random_number])\n",
    "\n",
    "# Function to check if hot songs or not\n",
    "def check_and_recommend(song_name, top100_songs_df):\n",
    "    \n",
    "    songs = list(map(str.lower, top100_songs_df.title))\n",
    "    \n",
    "    if song_name.lower() in songs:\n",
    "        \n",
    "        recommended_song = random_songs(top100_songs_df)\n",
    "        return \"Its hot song!! Check this out as well {0} by {1} \".format(recommended_song[0], recommended_song[1])\n",
    "    \n",
    "    else:\n",
    "        \n",
    "        recommended_song = get_audio_features(song_name)\n",
    "        \n",
    "        if type(recommended_song) == str:\n",
    "            \n",
    "            return recommended_song\n",
    "        else:\n",
    "            \n",
    "            st = \"Hey do check this song as well,  {0} by {1}\".format(recommended_song[0], recommended_song[1])\n",
    "            return st\n",
    "    "
   ]
  },
  {
   "cell_type": "code",
   "execution_count": 12,
   "id": "97472f1f",
   "metadata": {},
   "outputs": [
    {
     "name": "stdout",
     "output_type": "stream",
     "text": [
      "Type a song title: take two\n",
      "Its hot song!! Check this out as well We Don't Fight Anymore (feat. Chris Stapleton) by Carly Pearce \n"
     ]
    }
   ],
   "source": [
    "user_input = input(\"Type a song title: \")\n",
    "\n",
    "recommendation = check_and_recommend(user_input, top100_songs_df)\n",
    "print(recommendation)"
   ]
  },
  {
   "cell_type": "code",
   "execution_count": 27,
   "id": "fd45b27b",
   "metadata": {},
   "outputs": [
    {
     "name": "stdout",
     "output_type": "stream",
     "text": [
      "Type a song title: Doctor My Eyes\n",
      "Hey do check this song as well,  The New Sound of the Venezuelan Gozadera by Los Amigos Invisibles\n"
     ]
    }
   ],
   "source": [
    "user_input = input(\"Type a song title: \")\n",
    "\n",
    "recommendation = check_and_recommend(user_input, top100_songs_df)\n",
    "print(recommendation)"
   ]
  },
  {
   "cell_type": "code",
   "execution_count": 28,
   "id": "1b0ecee2",
   "metadata": {},
   "outputs": [
    {
     "name": "stdout",
     "output_type": "stream",
     "text": [
      "Type a song title: HJDFSJASDHF\n",
      "No recommendation. Please retry later\n"
     ]
    }
   ],
   "source": [
    "user_input = input(\"Type a song title: \")\n",
    "\n",
    "recommendation = check_and_recommend(user_input, top100_songs_df)\n",
    "print(recommendation)"
   ]
  },
  {
   "cell_type": "code",
   "execution_count": 29,
   "id": "cec35372",
   "metadata": {},
   "outputs": [
    {
     "name": "stdout",
     "output_type": "stream",
     "text": [
      "Type a song title: KESARIYA\n",
      "Hey do check this song as well,  Animal by Neon Trees\n"
     ]
    }
   ],
   "source": [
    "user_input = input(\"Type a song title: \")\n",
    "\n",
    "recommendation = check_and_recommend(user_input, top100_songs_df)\n",
    "print(recommendation)"
   ]
  },
  {
   "cell_type": "code",
   "execution_count": null,
   "id": "81986e03",
   "metadata": {},
   "outputs": [],
   "source": []
  },
  {
   "cell_type": "code",
   "execution_count": null,
   "id": "13b50402",
   "metadata": {},
   "outputs": [],
   "source": []
  },
  {
   "cell_type": "code",
   "execution_count": null,
   "id": "53c67fbd",
   "metadata": {},
   "outputs": [],
   "source": []
  }
 ],
 "metadata": {
  "kernelspec": {
   "display_name": "Python 3 (ipykernel)",
   "language": "python",
   "name": "python3"
  },
  "language_info": {
   "codemirror_mode": {
    "name": "ipython",
    "version": 3
   },
   "file_extension": ".py",
   "mimetype": "text/x-python",
   "name": "python",
   "nbconvert_exporter": "python",
   "pygments_lexer": "ipython3",
   "version": "3.10.9"
  }
 },
 "nbformat": 4,
 "nbformat_minor": 5
}
